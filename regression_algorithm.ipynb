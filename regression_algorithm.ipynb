{
  "nbformat": 4,
  "nbformat_minor": 0,
  "metadata": {
    "colab": {
      "provenance": [],
      "toc_visible": true,
      "authorship_tag": "ABX9TyOWni17LR9mSSoPAVDe6yTF",
      "include_colab_link": true
    },
    "kernelspec": {
      "name": "python3",
      "display_name": "Python 3"
    },
    "language_info": {
      "name": "python"
    }
  },
  "cells": [
    {
      "cell_type": "markdown",
      "metadata": {
        "id": "view-in-github",
        "colab_type": "text"
      },
      "source": [
        "<a href=\"https://colab.research.google.com/github/diogoferraz/ai-mba/blob/main/regression_algorithm.ipynb\" target=\"_parent\"><img src=\"https://colab.research.google.com/assets/colab-badge.svg\" alt=\"Open In Colab\"/></a>"
      ]
    },
    {
      "cell_type": "markdown",
      "source": [
        "# Importação das bibliotecas e funções (regressão)"
      ],
      "metadata": {
        "id": "uOma41zbFBj4"
      }
    },
    {
      "cell_type": "code",
      "execution_count": null,
      "metadata": {
        "id": "iJ7JGvoCui-o"
      },
      "outputs": [],
      "source": [
        "import warnings\n",
        "warnings.filterwarnings(\"ignore\") # O programa irá ignorar os warnings\n",
        "\n",
        "# Primeiro passo, devemos fazer as importações necessárias\n",
        "import pandas as pd # importando o Pandas\n",
        "import numpy as np  # importando o NumPy\n",
        "import matplotlib.pyplot as plt  # importando o MatPlotlib\n",
        "\n",
        "#Importação de todas as funções do Scikit-learn\n",
        "\n",
        "#Funções que executam a montagem do modelo\n",
        "\n",
        "from sklearn.model_selection import train_test_split # função que executa o split em bases de treino e teste (holdout)\n",
        "from sklearn.model_selection import KFold # função que faz as divisões dos subgrupos para a validação cruzada\n",
        "from sklearn.model_selection import cross_val_score # função que executa a validação cruzada\n",
        "\n",
        "#Funções que implementam os algoritmos de Machine Learning para problemas de regressão\n",
        "\n",
        "from sklearn.neighbors import KNeighborsRegressor # algoritmo KNN para problemas de regressão\n",
        "from sklearn.tree import DecisionTreeRegressor # algoritmo Árvore de decisão para problemas de regressão\n",
        "from sklearn.svm import SVR # algoritmo SVR\n",
        "from sklearn.linear_model import LinearRegression # algoritmo que implementa a regressão linear\n",
        "\n",
        "from sklearn.metrics import mean_squared_error # métrica Erro Quadrático Médio\n",
        "\n",
        "# funções de regularização\n",
        "from sklearn.linear_model import Lasso # algoritmo regularização Lasso (L1)\n",
        "from sklearn.linear_model import Ridge # algoritmo regularização Ridge (L2)"
      ]
    },
    {
      "cell_type": "markdown",
      "source": [
        "# Importação do dataset\n",
        "\n",
        "# Importando dados de um arquivo \".csv\" local ao google colab\n",
        "\n",
        "# Devemos fazer a carga do dataset a partir do conteúdo do arquivo \".csv\""
      ],
      "metadata": {
        "id": "kQjEZQslFL8f"
      }
    },
    {
      "cell_type": "code",
      "source": [
        "nomearq = '/content/sample_data/california_housing_test.csv' # este arquivo está dentro da aba \"content/sample_data\" do  Google Colab\n",
        "\n",
        "# carga do dataset através do csv\n",
        "mercearia = pd.read_csv(nomearq, header=0)"
      ],
      "metadata": {
        "id": "4U9MIqvDFMyJ"
      },
      "execution_count": null,
      "outputs": []
    },
    {
      "cell_type": "markdown",
      "source": [
        "# Vamos preparar os dados para rodar os algoritmos\n",
        "# Precisamos separar o dataset em um grupo de treino e outro de teste.\n",
        "\n",
        "# Vamos separar em dois grupos (holdout)\n",
        "\n"
      ],
      "metadata": {
        "id": "W-sbe0lwFQzL"
      }
    },
    {
      "cell_type": "code",
      "source": [
        "array = mercearia.values # retorna uma representação do dataframe\n",
        "x = array[:,1:7] # pega os 6 atributos exceto o primeiro\n",
        "y = array[:,0] # atributo índice 0 (é o primeiro - 0) (target) - canal de vendas\n",
        "\n",
        "x_train, x_test, y_train, y_test = train_test_split(x, y, test_size=0.20, random_state=7) # faz a divisão do dataset"
      ],
      "metadata": {
        "id": "vqsMRYrKFTzV"
      },
      "execution_count": null,
      "outputs": []
    },
    {
      "cell_type": "markdown",
      "source": [
        "# Para melhorar a performance vamos aplicar a validação cruzada"
      ],
      "metadata": {
        "id": "n-tjSD5eFbg3"
      }
    },
    {
      "cell_type": "code",
      "source": [
        "num_particoes = 10 # número de folds da validação cruzada\n",
        "kfold = KFold(n_splits=num_particoes, shuffle=True, random_state=5) # faz o particionamento em 10 folds"
      ],
      "metadata": {
        "id": "KWhRMoXrFaJX"
      },
      "execution_count": null,
      "outputs": []
    },
    {
      "cell_type": "markdown",
      "source": [
        "# Modelagem dos dados (regressão)"
      ],
      "metadata": {
        "id": "0jtWc1_PFw7e"
      }
    },
    {
      "cell_type": "code",
      "source": [
        "# Definindo uma seed global para esta célula de código\n",
        "np.random.seed(5)\n",
        "\n",
        "# Listas para armazenar os modelos, os resultados e os nomes dos modelos\n",
        "modelos = []\n",
        "resultados = []\n",
        "nomes = []\n",
        "\n",
        "# Preparando os modelos e adicionando-os em uma lista\n",
        "\n",
        "modelos.append(('KNN', KNeighborsRegressor()))    # versão do KNN para problemas de regressão\n",
        "modelos.append(('CART', DecisionTreeRegressor())) # algoritmo de árvore de decisão para problemas de regressão\n",
        "                                                  # a biblioteca Scikit-learn tem uma função de árvore de decisão\n",
        "                                                  # para os problemas de classificação e regressão (CART - Classification\n",
        "                                                  # And Regression Trees)\n",
        "modelos.append(('LR', LinearRegression()))        # algoritmo de regressão linear\n",
        "modelos.append(('SVR', SVR()))                    # algoritmo SVR - Support Vector Regression\n",
        "\n",
        "# Algoritmos de regularização\n",
        "modelos.append(('Lasso', Lasso()))                # L1\n",
        "modelos.append(('Ridge', Ridge()))                # L2"
      ],
      "metadata": {
        "id": "MupsqTy5FwNX"
      },
      "execution_count": null,
      "outputs": []
    },
    {
      "cell_type": "markdown",
      "source": [
        "# Execução dos modelos (regressão)\n",
        "# Vamos fazer uma iteração e avaliar um algoritmo por vez\n"
      ],
      "metadata": {
        "id": "gOALjfyfF7lP"
      }
    },
    {
      "cell_type": "code",
      "source": [
        "for nome, modelo in modelos:\n",
        "  resultados_cv = cross_val_score(modelo, x_train, y_train, cv=kfold, scoring='neg_mean_squared_error') # buscamos o erro quadrático médio (MSE)\n",
        "  resultados.append(resultados_cv)\n",
        "  nomes.append(nome)\n",
        "  # imprime MSE, desvio padrão do MSE e RMSE dos 10 resultados da validação cruzada\n",
        "  msg = \"%s: MSE %0.2f (%0.2f) - RMSE %0.2f\" % (nome, abs(resultados_cv.mean()), resultados_cv.std(), np.sqrt(abs(resultados_cv.mean())))\n",
        "  print(msg)"
      ],
      "metadata": {
        "colab": {
          "base_uri": "https://localhost:8080/"
        },
        "id": "6VdQwxVIF5ji",
        "outputId": "9347f014-55e6-4463-f8ad-4b9b12a1d7bf"
      },
      "execution_count": null,
      "outputs": [
        {
          "output_type": "stream",
          "name": "stdout",
          "text": [
            "KNN: MSE 4.49 (0.31) - RMSE 2.12\n",
            "CART: MSE 0.56 (0.11) - RMSE 0.75\n",
            "LR: MSE 0.49 (0.05) - RMSE 0.70\n",
            "SVR: MSE 4.19 (0.38) - RMSE 2.05\n",
            "Lasso: MSE 0.73 (0.07) - RMSE 0.86\n",
            "Ridge: MSE 0.49 (0.05) - RMSE 0.70\n"
          ]
        }
      ]
    },
    {
      "cell_type": "markdown",
      "source": [
        "# Criando um modelo com todo o conjunto de treino\n"
      ],
      "metadata": {
        "id": "rD2-JQeGGE79"
      }
    },
    {
      "cell_type": "code",
      "source": [
        "modelo = SVR()\n",
        "modelo.fit(x_train, y_train)\n",
        "\n",
        "# Fazendo as predições com o conjunto de teste\n",
        "predic = modelo.predict(x_test)\n",
        "\n",
        "# Estimando o MSE e o RMSE no conjunto de teste\n",
        "mse = mean_squared_error(y_test, predic)\n",
        "print(\"MSE %0.2f\" % mse)\n",
        "print(\"RMSE %0.2f\" % np.sqrt(abs(mse)))\n"
      ],
      "metadata": {
        "colab": {
          "base_uri": "https://localhost:8080/"
        },
        "id": "q4sjvaGLGFbP",
        "outputId": "b2a998e0-087d-46a9-8da9-a302d87dbaa1"
      },
      "execution_count": null,
      "outputs": [
        {
          "output_type": "stream",
          "name": "stdout",
          "text": [
            "MSE 4.07\n",
            "RMSE 2.02\n"
          ]
        }
      ]
    }
  ]
}